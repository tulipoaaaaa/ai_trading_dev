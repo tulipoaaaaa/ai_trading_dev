{
 "cells": [
  {
   "cell_type": "code",
   "execution_count": 1,
   "id": "a2e78c1d-4736-4e7e-ad18-8cc4045cca5e",
   "metadata": {},
   "outputs": [
    {
     "name": "stdout",
     "output_type": "stream",
     "text": [
      "====================================== SYSTEM ======================================\n",
      "Timestamp: 2025-04-21T16:33:39.636853 UTC\n",
      "Hostname : 07d88fdcb59f\n",
      "Python   : 3.10.12\n",
      "Torch    : 2.8.0.dev20250421+cu128\n",
      "CUDA rt  : 12.8\n",
      "CUDA drv : 572.83\n",
      "\n",
      "== GPU(s) ==\n",
      "GPU0: NVIDIA GeForce RTX 5090 | CC (12, 0) | arch list has sm_120? True\n",
      "\n",
      "== bitsandbytes ==\n",
      "bnb lib path: /opt/bitsandbytes/bitsandbytes/__init__.py\n"
     ]
    }
   ],
   "source": [
    "# 🟢 Cell 1 — Runtime & GPU fingerprint\n",
    "import torch, bitsandbytes as bnb, subprocess, platform, datetime\n",
    "\n",
    "print(\"=\"*38, \"SYSTEM\", \"=\"*38)\n",
    "print(\"Timestamp:\", datetime.datetime.utcnow().isoformat(), \"UTC\")\n",
    "print(\"Hostname :\", platform.node())\n",
    "print(\"Python   :\", platform.python_version())\n",
    "print(\"Torch    :\", torch.__version__)\n",
    "print(\"CUDA rt  :\", torch.version.cuda)\n",
    "print(\"CUDA drv :\", subprocess.check_output(\n",
    "        [\"nvidia-smi\", \"--query-gpu=driver_version\", \"--format=csv,noheader\"]\n",
    "    ).decode().strip())\n",
    "\n",
    "print(\"\\n== GPU(s) ==\")\n",
    "for i in range(torch.cuda.device_count()):\n",
    "    cap = torch.cuda.get_device_capability(i)\n",
    "    print(f\"GPU{i}: {torch.cuda.get_device_name(i)} | CC {cap} | \"\n",
    "          f\"arch list has sm_120? {'sm_120' in torch.cuda.get_arch_list()}\")\n",
    "\n",
    "print(\"\\n== bitsandbytes ==\")\n",
    "print(\"bnb lib path:\", bnb.__file__)\n"
   ]
  },
  {
   "cell_type": "code",
   "execution_count": 2,
   "id": "5319adf7-532f-418c-9645-9fd5c5c98218",
   "metadata": {},
   "outputs": [
    {
     "name": "stdout",
     "output_type": "stream",
     "text": [
      ">>> bitsandbytes sm_120 kernel appears OK ✅\n"
     ]
    }
   ],
   "source": [
    "# 🟢 Cell 2 — Kernel smoke‑test (tensor ops + bnb optimiser)\n",
    "import torch, bitsandbytes as bnb\n",
    "p = torch.nn.Parameter(torch.rand(256, 256, device=\"cuda\"))\n",
    "loss = (torch.rand_like(p) * p).sum()\n",
    "loss.backward()\n",
    "opt = bnb.optim.Adam8bit([p])\n",
    "opt.step()\n",
    "print(\">>> bitsandbytes sm_120 kernel appears OK ✅\")\n"
   ]
  },
  {
   "cell_type": "code",
   "execution_count": 8,
   "id": "fd06f3e5-2853-4d9a-9bd0-985b59ec9e3f",
   "metadata": {},
   "outputs": [
    {
     "name": "stdout",
     "output_type": "stream",
     "text": [
      "Main weight device: cuda:0\n",
      "LoRA‑style 4‑bit forward/backward ✅  |  loss: -8.329385757446289\n"
     ]
    }
   ],
   "source": [
    "# 🟢 Cell 3 — Pure PyTorch + bitsandbytes 4‑bit sanity test\n",
    "import torch, bitsandbytes as bnb, gc\n",
    "from bitsandbytes.nn import Linear4bit\n",
    "\n",
    "torch.manual_seed(42)\n",
    "\n",
    "# --- a tiny 2‑layer \"model\" in 4‑bit ---\n",
    "class Tiny4Bit(torch.nn.Module):\n",
    "    def __init__(self):\n",
    "        super().__init__()\n",
    "        self.fc1 = Linear4bit(64, 64, bias=False, compute_dtype=torch.bfloat16)\n",
    "        self.fc2 = Linear4bit(64, 64, bias=False, compute_dtype=torch.bfloat16)\n",
    "    def forward(self, x):               # simple MLP block\n",
    "        return self.fc2(torch.nn.functional.relu(self.fc1(x)))\n",
    "\n",
    "model = Tiny4Bit().cuda()               # weights already Q4 NF‑4\n",
    "print(\"Main weight device:\", next(model.parameters()).device)\n",
    "\n",
    "# fake LoRA adapter: just another 4‑bit layer we treat as extension\n",
    "lora = Linear4bit(64, 64, bias=False, compute_dtype=torch.bfloat16).cuda()\n",
    "\n",
    "# input\n",
    "x = torch.rand(8, 64, device=\"cuda\").requires_grad_()\n",
    "out = model(x) + lora(x)                # combine base + tiny \"LoRA\"\n",
    "loss = out.sum()\n",
    "loss.backward()\n",
    "\n",
    "# 8‑bit Adam step\n",
    "opt = bnb.optim.Adam8bit(\n",
    "    list(model.parameters()) + list(lora.parameters()), lr=1e-3\n",
    ")\n",
    "opt.step()\n",
    "\n",
    "print(\"LoRA‑style 4‑bit forward/backward ✅  |  loss:\", loss.item())\n",
    "\n",
    "del model, lora; gc.collect(); torch.cuda.empty_cache()\n",
    "\n",
    "\n"
   ]
  },
  {
   "cell_type": "code",
   "execution_count": 9,
   "id": "3aa2fe95-eab2-4b43-8f5a-675a17e55531",
   "metadata": {},
   "outputs": [
    {
     "name": "stdout",
     "output_type": "stream",
     "text": [
      "All three cells ran without errors → GPU environment is validated 🎉\n"
     ]
    }
   ],
   "source": [
    "# 🟢 Cell 4 — Exit criteria\n",
    "print(\"All three cells ran without errors → GPU environment is validated 🎉\")\n",
    "\n"
   ]
  },
  {
   "cell_type": "code",
   "execution_count": null,
   "id": "53e3d488-fee4-47bf-aec5-ec565945e342",
   "metadata": {},
   "outputs": [],
   "source": [
    "\n"
   ]
  }
 ],
 "metadata": {
  "kernelspec": {
   "display_name": "Python 3 (ipykernel)",
   "language": "python",
   "name": "python3"
  },
  "language_info": {
   "codemirror_mode": {
    "name": "ipython",
    "version": 3
   },
   "file_extension": ".py",
   "mimetype": "text/x-python",
   "name": "python",
   "nbconvert_exporter": "python",
   "pygments_lexer": "ipython3",
   "version": "3.10.12"
  }
 },
 "nbformat": 4,
 "nbformat_minor": 5
}
