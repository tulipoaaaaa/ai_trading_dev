{
 "cells": [
  {
   "cell_type": "code",
   "execution_count": null,
   "id": "1b8716b0-d417-4b7d-b948-afec54a11b17",
   "metadata": {
    "scrolled": true
   },
   "outputs": [],
   "source": [
    "!pip install --pre torch torchvision torchaudio --index-url https://download.pytorch.org/whl/nightly/cu124\n"
   ]
  },
  {
   "cell_type": "code",
   "execution_count": null,
   "id": "091c757f-2b66-47cd-b992-464b1486e6a6",
   "metadata": {
    "scrolled": true
   },
   "outputs": [],
   "source": [
    "# Note, if you don't want to reinstall BNBs dependencies, append the `--no-deps` flag!\n",
    "!pip install --force-reinstall 'https://github.com/bitsandbytes-foundation/bitsandbytes/releases/download/continuous-release_main/bitsandbytes-0.44.2.dev0-py3-none-manylinux_2_24_x86_64.whl'"
   ]
  },
  {
   "cell_type": "code",
   "execution_count": null,
   "id": "25158062-3348-4673-9a3d-11f68a991f30",
   "metadata": {},
   "outputs": [],
   "source": [
    "import torch\n",
    "print(torch.cuda.is_available())\n",
    "print(torch.cuda.get_device_name(0))\n"
   ]
  },
  {
   "cell_type": "code",
   "execution_count": null,
   "id": "5d2bda68-5e14-4809-807e-516b3371759e",
   "metadata": {},
   "outputs": [],
   "source": [
    "import torch\n",
    "import tensorflow as tf\n",
    "import GPUtil\n",
    "import os\n",
    "\n",
    "def check_gpu_availability():\n",
    "    print(\"Checking GPU availability...\\n\")\n",
    "\n",
    "    # Check for PyTorch GPU availability\n",
    "    if torch.cuda.is_available():\n",
    "        print(f\"PyTorch is using GPU: {torch.cuda.get_device_name(0)}\")\n",
    "        print(f\"PyTorch CUDA version: {torch.version.cuda}\")\n",
    "    else:\n",
    "        print(\"PyTorch is not using GPU.\")\n",
    "\n",
    "    # Check for TensorFlow GPU availability\n",
    "    gpus = tf.config.list_physical_devices('GPU')\n",
    "    if gpus:\n",
    "        print(f\"TensorFlow is using GPU: {gpus[0].name}\")\n",
    "        print(f\"TensorFlow CUDA version: {tf.sysconfig.get_build_info()['cuda_version']}\")\n",
    "    else:\n",
    "        print(\"TensorFlow is not using GPU.\")\n",
    "\n",
    "    # Display GPU utilization using GPUtil\n",
    "    print(\"\\nGPU utilization details:\")\n",
    "    GPUtil.showUtilization()\n",
    "\n",
    "    # Check environment variables related to CUDA\n",
    "    cuda_visible_devices = os.environ.get(\"CUDA_VISIBLE_DEVICES\", None)\n",
    "    if cuda_visible_devices is not None:\n",
    "        print(f\"\\nCUDA_VISIBLE_DEVICES is set to: {cuda_visible_devices}\")\n",
    "    else:\n",
    "        print(\"\\nCUDA_VISIBLE_DEVICES is not set.\")\n",
    "\n",
    "# Run the GPU availability check\n",
    "check_gpu_availability()\n"
   ]
  },
  {
   "cell_type": "code",
   "execution_count": null,
   "id": "16ac00ae-cfde-4733-ab2e-7592cbf54d5e",
   "metadata": {},
   "outputs": [],
   "source": [
    "import torch\n",
    "import os\n",
    "\n",
    "def check_gpu_availability():\n",
    "    print(\"Checking GPU availability...\\n\")\n",
    "\n",
    "    # Check for PyTorch GPU availability\n",
    "    if torch.cuda.is_available():\n",
    "        print(f\"PyTorch is using GPU: {torch.cuda.get_device_name(0)}\")\n",
    "        print(f\"PyTorch CUDA version: {torch.version.cuda}\")\n",
    "    else:\n",
    "        print(\"PyTorch is not using GPU.\")\n",
    "\n",
    "    # Check environment variables related to CUDA\n",
    "    cuda_visible_devices = os.environ.get(\"CUDA_VISIBLE_DEVICES\", None)\n",
    "    if cuda_visible_devices is not None:\n",
    "        print(f\"\\nCUDA_VISIBLE_DEVICES is set to: {cuda_visible_devices}\")\n",
    "    else:\n",
    "        print(\"\\nCUDA_VISIBLE_DEVICES is not set.\")\n",
    "\n",
    "# Run the GPU availability check\n",
    "check_gpu_availability()\n"
   ]
  },
  {
   "cell_type": "code",
   "execution_count": null,
   "id": "32d3620f-61c8-46ca-82ee-8c6b6312a473",
   "metadata": {},
   "outputs": [],
   "source": []
  }
 ],
 "metadata": {
  "kernelspec": {
   "display_name": "Python 3 (ipykernel)",
   "language": "python",
   "name": "python3"
  },
  "language_info": {
   "codemirror_mode": {
    "name": "ipython",
    "version": 3
   },
   "file_extension": ".py",
   "mimetype": "text/x-python",
   "name": "python",
   "nbconvert_exporter": "python",
   "pygments_lexer": "ipython3",
   "version": "3.10.12"
  }
 },
 "nbformat": 4,
 "nbformat_minor": 5
}
